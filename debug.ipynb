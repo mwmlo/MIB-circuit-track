{
 "cells": [
  {
   "cell_type": "code",
   "execution_count": 5,
   "id": "4af8c865",
   "metadata": {},
   "outputs": [],
   "source": [
    "%load_ext autoreload\n",
    "%autoreload 2"
   ]
  },
  {
   "cell_type": "code",
   "execution_count": 6,
   "id": "d1da3266",
   "metadata": {},
   "outputs": [
    {
     "name": "stderr",
     "output_type": "stream",
     "text": [
      "/vol/bitbucket/mwl21/fypvenv/lib/python3.12/site-packages/tqdm/auto.py:21: TqdmWarning: IProgress not found. Please update jupyter and ipywidgets. See https://ipywidgets.readthedocs.io/en/stable/user_install.html\n",
      "  from .autonotebook import tqdm as notebook_tqdm\n"
     ]
    }
   ],
   "source": [
    "import argparse\n",
    "import os\n",
    "import torch\n",
    "import pickle\n",
    "from functools import partial\n",
    "\n",
    "from transformer_lens import HookedTransformer, HookedTransformerConfig\n",
    "from huggingface_hub import hf_hub_download\n",
    "\n",
    "from MIB_circuit_track.dataset import HFEAPDataset\n",
    "from eap.graph import Graph\n",
    "from eap.attribute import attribute\n",
    "from eap.attribute_node import attribute_node\n",
    "from MIB_circuit_track.metrics import get_metric\n",
    "from MIB_circuit_track.utils import MODEL_NAME_TO_FULLNAME, TASKS_TO_HF_NAMES, COL_MAPPING"
   ]
  },
  {
   "cell_type": "code",
   "execution_count": 11,
   "id": "92eb471b",
   "metadata": {},
   "outputs": [
    {
     "name": "stdout",
     "output_type": "stream",
     "text": [
      "Loaded pretrained model gpt2 into HookedTransformer\n"
     ]
    }
   ],
   "source": [
    "model_name = \"gpt2\"\n",
    "model = HookedTransformer.from_pretrained(model_name)\n",
    "model.cfg.use_split_qkv_input = True\n",
    "model.cfg.use_attn_result = True\n",
    "model.cfg.use_hook_mlp_in = True\n",
    "model.cfg.ungroup_grouped_query_attention = True\n",
    "\n",
    "task = 'ioi'\n",
    "graph = Graph.from_model(model, neuron_level=True, node_scores=False)\n",
    "\n",
    "hf_task_name = f'mib-bench/{TASKS_TO_HF_NAMES[task]}'\n",
    "dataset = HFEAPDataset(hf_task_name, model.tokenizer, split=\"validation\", task=task, model_name=model_name, num_examples=1)\n",
    "\n",
    "dataloader = dataset.to_dataloader(batch_size=1)\n",
    "metric = get_metric('logit_diff', task, model.tokenizer, model)\n",
    "attribution_metric = partial(metric, mean=True, loss=True)\n"
   ]
  },
  {
   "cell_type": "code",
   "execution_count": 8,
   "id": "a4f5c79c",
   "metadata": {},
   "outputs": [
    {
     "name": "stderr",
     "output_type": "stream",
     "text": [
      "  0%|          | 0/1 [00:00<?, ?it/s]"
     ]
    },
    {
     "name": "stderr",
     "output_type": "stream",
     "text": [
      "100%|██████████| 1/1 [00:01<00:00,  1.28s/it]\n"
     ]
    }
   ],
   "source": [
    "attribute_node(model, graph, dataloader, attribution_metric, \"EAP\", \n",
    "                    \"patching\", neuron=True, ig_steps=5,\n",
    "                    optimal_ablation_path=None,\n",
    "                    intervention_dataloader=dataloader)"
   ]
  },
  {
   "cell_type": "code",
   "execution_count": 45,
   "id": "4c90acf1",
   "metadata": {},
   "outputs": [
    {
     "data": {
      "text/plain": [
       "(158, torch.Size([157, 768]), torch.Size([157, 768]), torch.Size([157]))"
      ]
     },
     "execution_count": 45,
     "metadata": {},
     "output_type": "execute_result"
    }
   ],
   "source": [
    "len(graph.nodes), graph.neurons_scores.shape, graph.neurons_in_graph.shape, graph.nodes_in_graph.shape"
   ]
  },
  {
   "cell_type": "code",
   "execution_count": 27,
   "id": "e7c1cd5c",
   "metadata": {},
   "outputs": [
    {
     "name": "stderr",
     "output_type": "stream",
     "text": [
      "  0%|          | 0/1 [00:00<?, ?it/s]"
     ]
    },
    {
     "name": "stderr",
     "output_type": "stream",
     "text": [
      "100%|██████████| 1/1 [00:00<00:00, 10.58it/s]\n",
      "100%|██████████| 1/1 [00:00<00:00, 10.42it/s]\n"
     ]
    },
    {
     "name": "stdout",
     "output_type": "stream",
     "text": [
      "Original performance was -3.20346736907959; the circuit's performance is 3.045830726623535\n"
     ]
    }
   ],
   "source": [
    "from eap.evaluate import evaluate_graph, evaluate_baseline\n",
    "\n",
    "baseline = evaluate_baseline(model, dataloader, attribution_metric).mean().item()\n",
    "results = evaluate_graph(model, graph, dataloader, attribution_metric).mean().item()\n",
    "print(f\"Original performance was {baseline}; the circuit's performance is {results}\")"
   ]
  },
  {
   "cell_type": "code",
   "execution_count": 46,
   "id": "7988ce08",
   "metadata": {},
   "outputs": [
    {
     "name": "stdout",
     "output_type": "stream",
     "text": [
      "input: 0\n",
      "a0.h0: slice(1, 13, None)\n",
      "a0.h1: slice(1, 13, None)\n",
      "a0.h2: slice(1, 13, None)\n",
      "a0.h3: slice(1, 13, None)\n",
      "a0.h4: slice(1, 13, None)\n",
      "a0.h5: slice(1, 13, None)\n",
      "a0.h6: slice(1, 13, None)\n",
      "a0.h7: slice(1, 13, None)\n",
      "a0.h8: slice(1, 13, None)\n",
      "a0.h9: slice(1, 13, None)\n",
      "a0.h10: slice(1, 13, None)\n",
      "a0.h11: slice(1, 13, None)\n",
      "m0: 13\n",
      "a1.h0: slice(14, 26, None)\n",
      "a1.h1: slice(14, 26, None)\n",
      "a1.h2: slice(14, 26, None)\n",
      "a1.h3: slice(14, 26, None)\n",
      "a1.h4: slice(14, 26, None)\n",
      "a1.h5: slice(14, 26, None)\n",
      "a1.h6: slice(14, 26, None)\n",
      "a1.h7: slice(14, 26, None)\n",
      "a1.h8: slice(14, 26, None)\n",
      "a1.h9: slice(14, 26, None)\n",
      "a1.h10: slice(14, 26, None)\n",
      "a1.h11: slice(14, 26, None)\n",
      "m1: 26\n",
      "a2.h0: slice(27, 39, None)\n",
      "a2.h1: slice(27, 39, None)\n",
      "a2.h2: slice(27, 39, None)\n",
      "a2.h3: slice(27, 39, None)\n",
      "a2.h4: slice(27, 39, None)\n",
      "a2.h5: slice(27, 39, None)\n",
      "a2.h6: slice(27, 39, None)\n",
      "a2.h7: slice(27, 39, None)\n",
      "a2.h8: slice(27, 39, None)\n",
      "a2.h9: slice(27, 39, None)\n",
      "a2.h10: slice(27, 39, None)\n",
      "a2.h11: slice(27, 39, None)\n",
      "m2: 39\n",
      "a3.h0: slice(40, 52, None)\n",
      "a3.h1: slice(40, 52, None)\n",
      "a3.h2: slice(40, 52, None)\n",
      "a3.h3: slice(40, 52, None)\n",
      "a3.h4: slice(40, 52, None)\n",
      "a3.h5: slice(40, 52, None)\n",
      "a3.h6: slice(40, 52, None)\n",
      "a3.h7: slice(40, 52, None)\n",
      "a3.h8: slice(40, 52, None)\n",
      "a3.h9: slice(40, 52, None)\n",
      "a3.h10: slice(40, 52, None)\n",
      "a3.h11: slice(40, 52, None)\n",
      "m3: 52\n",
      "a4.h0: slice(53, 65, None)\n",
      "a4.h1: slice(53, 65, None)\n",
      "a4.h2: slice(53, 65, None)\n",
      "a4.h3: slice(53, 65, None)\n",
      "a4.h4: slice(53, 65, None)\n",
      "a4.h5: slice(53, 65, None)\n",
      "a4.h6: slice(53, 65, None)\n",
      "a4.h7: slice(53, 65, None)\n",
      "a4.h8: slice(53, 65, None)\n",
      "a4.h9: slice(53, 65, None)\n",
      "a4.h10: slice(53, 65, None)\n",
      "a4.h11: slice(53, 65, None)\n",
      "m4: 65\n",
      "a5.h0: slice(66, 78, None)\n",
      "a5.h1: slice(66, 78, None)\n",
      "a5.h2: slice(66, 78, None)\n",
      "a5.h3: slice(66, 78, None)\n",
      "a5.h4: slice(66, 78, None)\n",
      "a5.h5: slice(66, 78, None)\n",
      "a5.h6: slice(66, 78, None)\n",
      "a5.h7: slice(66, 78, None)\n",
      "a5.h8: slice(66, 78, None)\n",
      "a5.h9: slice(66, 78, None)\n",
      "a5.h10: slice(66, 78, None)\n",
      "a5.h11: slice(66, 78, None)\n",
      "m5: 78\n",
      "a6.h0: slice(79, 91, None)\n",
      "a6.h1: slice(79, 91, None)\n",
      "a6.h2: slice(79, 91, None)\n",
      "a6.h3: slice(79, 91, None)\n",
      "a6.h4: slice(79, 91, None)\n",
      "a6.h5: slice(79, 91, None)\n",
      "a6.h6: slice(79, 91, None)\n",
      "a6.h7: slice(79, 91, None)\n",
      "a6.h8: slice(79, 91, None)\n",
      "a6.h9: slice(79, 91, None)\n",
      "a6.h10: slice(79, 91, None)\n",
      "a6.h11: slice(79, 91, None)\n",
      "m6: 91\n",
      "a7.h0: slice(92, 104, None)\n",
      "a7.h1: slice(92, 104, None)\n",
      "a7.h2: slice(92, 104, None)\n",
      "a7.h3: slice(92, 104, None)\n",
      "a7.h4: slice(92, 104, None)\n",
      "a7.h5: slice(92, 104, None)\n",
      "a7.h6: slice(92, 104, None)\n",
      "a7.h7: slice(92, 104, None)\n",
      "a7.h8: slice(92, 104, None)\n",
      "a7.h9: slice(92, 104, None)\n",
      "a7.h10: slice(92, 104, None)\n",
      "a7.h11: slice(92, 104, None)\n",
      "m7: 104\n",
      "a8.h0: slice(105, 117, None)\n",
      "a8.h1: slice(105, 117, None)\n",
      "a8.h2: slice(105, 117, None)\n",
      "a8.h3: slice(105, 117, None)\n",
      "a8.h4: slice(105, 117, None)\n",
      "a8.h5: slice(105, 117, None)\n",
      "a8.h6: slice(105, 117, None)\n",
      "a8.h7: slice(105, 117, None)\n",
      "a8.h8: slice(105, 117, None)\n",
      "a8.h9: slice(105, 117, None)\n",
      "a8.h10: slice(105, 117, None)\n",
      "a8.h11: slice(105, 117, None)\n",
      "m8: 117\n",
      "a9.h0: slice(118, 130, None)\n",
      "a9.h1: slice(118, 130, None)\n",
      "a9.h2: slice(118, 130, None)\n",
      "a9.h3: slice(118, 130, None)\n",
      "a9.h4: slice(118, 130, None)\n",
      "a9.h5: slice(118, 130, None)\n",
      "a9.h6: slice(118, 130, None)\n",
      "a9.h7: slice(118, 130, None)\n",
      "a9.h8: slice(118, 130, None)\n",
      "a9.h9: slice(118, 130, None)\n",
      "a9.h10: slice(118, 130, None)\n",
      "a9.h11: slice(118, 130, None)\n",
      "m9: 130\n",
      "a10.h0: slice(131, 143, None)\n",
      "a10.h1: slice(131, 143, None)\n",
      "a10.h2: slice(131, 143, None)\n",
      "a10.h3: slice(131, 143, None)\n",
      "a10.h4: slice(131, 143, None)\n",
      "a10.h5: slice(131, 143, None)\n",
      "a10.h6: slice(131, 143, None)\n",
      "a10.h7: slice(131, 143, None)\n",
      "a10.h8: slice(131, 143, None)\n",
      "a10.h9: slice(131, 143, None)\n",
      "a10.h10: slice(131, 143, None)\n",
      "a10.h11: slice(131, 143, None)\n",
      "m10: 143\n",
      "a11.h0: slice(144, 156, None)\n",
      "a11.h1: slice(144, 156, None)\n",
      "a11.h2: slice(144, 156, None)\n",
      "a11.h3: slice(144, 156, None)\n",
      "a11.h4: slice(144, 156, None)\n",
      "a11.h5: slice(144, 156, None)\n",
      "a11.h6: slice(144, 156, None)\n",
      "a11.h7: slice(144, 156, None)\n",
      "a11.h8: slice(144, 156, None)\n",
      "a11.h9: slice(144, 156, None)\n",
      "a11.h10: slice(144, 156, None)\n",
      "a11.h11: slice(144, 156, None)\n",
      "m11: 156\n",
      "logits: 157\n"
     ]
    }
   ],
   "source": [
    "for node_name, node in graph.nodes.items():\n",
    "    print(f\"{node_name}: {graph.forward_index(node)}\")"
   ]
  },
  {
   "cell_type": "code",
   "execution_count": 49,
   "id": "10d54eb8",
   "metadata": {},
   "outputs": [
    {
     "name": "stdout",
     "output_type": "stream",
     "text": [
      "Node input in graph: False\n",
      "Node a0.h0 in graph: False\n",
      "Node a0.h1 in graph: False\n",
      "Node a0.h2 in graph: False\n",
      "Node a0.h3 in graph: False\n",
      "Node a0.h4 in graph: False\n",
      "Node a0.h5 in graph: False\n",
      "Node a0.h6 in graph: False\n",
      "Node a0.h7 in graph: False\n",
      "Node a0.h8 in graph: False\n",
      "Node a0.h9 in graph: False\n",
      "Node a0.h10 in graph: False\n",
      "Node a0.h11 in graph: False\n",
      "Node m0 in graph: False\n",
      "Node a1.h0 in graph: False\n",
      "Node a1.h1 in graph: False\n",
      "Node a1.h2 in graph: False\n",
      "Node a1.h3 in graph: False\n",
      "Node a1.h4 in graph: False\n",
      "Node a1.h5 in graph: False\n",
      "Node a1.h6 in graph: False\n",
      "Node a1.h7 in graph: False\n",
      "Node a1.h8 in graph: False\n",
      "Node a1.h9 in graph: False\n",
      "Node a1.h10 in graph: False\n",
      "Node a1.h11 in graph: False\n",
      "Node m1 in graph: False\n",
      "Node a2.h0 in graph: False\n",
      "Node a2.h1 in graph: False\n",
      "Node a2.h2 in graph: False\n",
      "Node a2.h3 in graph: False\n",
      "Node a2.h4 in graph: False\n",
      "Node a2.h5 in graph: False\n",
      "Node a2.h6 in graph: False\n",
      "Node a2.h7 in graph: False\n",
      "Node a2.h8 in graph: False\n",
      "Node a2.h9 in graph: False\n",
      "Node a2.h10 in graph: False\n",
      "Node a2.h11 in graph: False\n",
      "Node m2 in graph: False\n",
      "Node a3.h0 in graph: False\n",
      "Node a3.h1 in graph: False\n",
      "Node a3.h2 in graph: False\n",
      "Node a3.h3 in graph: False\n",
      "Node a3.h4 in graph: False\n",
      "Node a3.h5 in graph: False\n",
      "Node a3.h6 in graph: False\n",
      "Node a3.h7 in graph: False\n",
      "Node a3.h8 in graph: False\n",
      "Node a3.h9 in graph: False\n",
      "Node a3.h10 in graph: False\n",
      "Node a3.h11 in graph: False\n",
      "Node m3 in graph: False\n",
      "Node a4.h0 in graph: False\n",
      "Node a4.h1 in graph: False\n",
      "Node a4.h2 in graph: False\n",
      "Node a4.h3 in graph: False\n",
      "Node a4.h4 in graph: False\n",
      "Node a4.h5 in graph: False\n",
      "Node a4.h6 in graph: False\n",
      "Node a4.h7 in graph: False\n",
      "Node a4.h8 in graph: False\n",
      "Node a4.h9 in graph: False\n",
      "Node a4.h10 in graph: False\n",
      "Node a4.h11 in graph: False\n",
      "Node m4 in graph: False\n",
      "Node a5.h0 in graph: False\n",
      "Node a5.h1 in graph: False\n",
      "Node a5.h2 in graph: False\n",
      "Node a5.h3 in graph: False\n",
      "Node a5.h4 in graph: False\n",
      "Node a5.h5 in graph: False\n",
      "Node a5.h6 in graph: False\n",
      "Node a5.h7 in graph: False\n",
      "Node a5.h8 in graph: False\n",
      "Node a5.h9 in graph: False\n",
      "Node a5.h10 in graph: False\n",
      "Node a5.h11 in graph: False\n",
      "Node m5 in graph: False\n",
      "Node a6.h0 in graph: False\n",
      "Node a6.h1 in graph: False\n",
      "Node a6.h2 in graph: False\n",
      "Node a6.h3 in graph: False\n",
      "Node a6.h4 in graph: False\n",
      "Node a6.h5 in graph: False\n",
      "Node a6.h6 in graph: False\n",
      "Node a6.h7 in graph: False\n",
      "Node a6.h8 in graph: False\n",
      "Node a6.h9 in graph: False\n",
      "Node a6.h10 in graph: False\n",
      "Node a6.h11 in graph: False\n",
      "Node m6 in graph: False\n",
      "Node a7.h0 in graph: False\n",
      "Node a7.h1 in graph: False\n",
      "Node a7.h2 in graph: False\n",
      "Node a7.h3 in graph: False\n",
      "Node a7.h4 in graph: False\n",
      "Node a7.h5 in graph: False\n",
      "Node a7.h6 in graph: False\n",
      "Node a7.h7 in graph: False\n",
      "Node a7.h8 in graph: False\n",
      "Node a7.h9 in graph: False\n",
      "Node a7.h10 in graph: False\n",
      "Node a7.h11 in graph: False\n",
      "Node m7 in graph: False\n",
      "Node a8.h0 in graph: False\n",
      "Node a8.h1 in graph: False\n",
      "Node a8.h2 in graph: False\n",
      "Node a8.h3 in graph: False\n",
      "Node a8.h4 in graph: False\n",
      "Node a8.h5 in graph: False\n",
      "Node a8.h6 in graph: False\n",
      "Node a8.h7 in graph: False\n",
      "Node a8.h8 in graph: False\n",
      "Node a8.h9 in graph: False\n",
      "Node a8.h10 in graph: False\n",
      "Node a8.h11 in graph: False\n",
      "Node m8 in graph: False\n",
      "Node a9.h0 in graph: False\n",
      "Node a9.h1 in graph: False\n",
      "Node a9.h2 in graph: False\n",
      "Node a9.h3 in graph: False\n",
      "Node a9.h4 in graph: False\n",
      "Node a9.h5 in graph: False\n",
      "Node a9.h6 in graph: False\n",
      "Node a9.h7 in graph: False\n",
      "Node a9.h8 in graph: False\n",
      "Node a9.h9 in graph: False\n",
      "Node a9.h10 in graph: False\n",
      "Node a9.h11 in graph: False\n",
      "Node m9 in graph: False\n",
      "Node a10.h0 in graph: False\n",
      "Node a10.h1 in graph: False\n",
      "Node a10.h2 in graph: False\n",
      "Node a10.h3 in graph: False\n",
      "Node a10.h4 in graph: False\n",
      "Node a10.h5 in graph: False\n",
      "Node a10.h6 in graph: False\n",
      "Node a10.h7 in graph: False\n",
      "Node a10.h8 in graph: False\n",
      "Node a10.h9 in graph: False\n",
      "Node a10.h10 in graph: False\n",
      "Node a10.h11 in graph: False\n",
      "Node m10 in graph: False\n",
      "Node a11.h0 in graph: False\n",
      "Node a11.h1 in graph: False\n",
      "Node a11.h2 in graph: False\n",
      "Node a11.h3 in graph: False\n",
      "Node a11.h4 in graph: False\n",
      "Node a11.h5 in graph: False\n",
      "Node a11.h6 in graph: False\n",
      "Node a11.h7 in graph: False\n",
      "Node a11.h8 in graph: False\n",
      "Node a11.h9 in graph: False\n",
      "Node a11.h10 in graph: False\n",
      "Node a11.h11 in graph: False\n",
      "Node m11 in graph: False\n",
      "Node logits in graph: True\n"
     ]
    }
   ],
   "source": [
    "graph.to_json(f'circuits/debug/importances.json')"
   ]
  },
  {
   "cell_type": "code",
   "execution_count": 51,
   "id": "5853ade6",
   "metadata": {},
   "outputs": [],
   "source": [
    "graph = Graph.from_json('circuits/debug/importances.json')"
   ]
  },
  {
   "cell_type": "code",
   "execution_count": 52,
   "id": "f85ad146",
   "metadata": {},
   "outputs": [
    {
     "name": "stderr",
     "output_type": "stream",
     "text": [
      "100%|██████████| 1/1 [00:00<00:00, 10.12it/s]\n",
      "100%|██████████| 1/1 [00:00<00:00, 12.37it/s]"
     ]
    },
    {
     "name": "stdout",
     "output_type": "stream",
     "text": [
      "Original performance was -3.20346736907959; the circuit's performance is 3.045830726623535\n"
     ]
    },
    {
     "name": "stderr",
     "output_type": "stream",
     "text": [
      "\n"
     ]
    }
   ],
   "source": [
    "from eap.evaluate import evaluate_graph, evaluate_baseline\n",
    "\n",
    "baseline = evaluate_baseline(model, dataloader, attribution_metric).mean().item()\n",
    "results = evaluate_graph(model, graph, dataloader, attribution_metric).mean().item()\n",
    "print(f\"Original performance was {baseline}; the circuit's performance is {results}\")"
   ]
  },
  {
   "cell_type": "code",
   "execution_count": 1,
   "id": "dc381242",
   "metadata": {},
   "outputs": [],
   "source": [
    "import pickle\n",
    "\n",
    "with open('results/EAP_patching_neuron/ioi_gpt2_validation_abs-False.pkl', 'rb') as f:\n",
    "    data = pickle.load(f)"
   ]
  },
  {
   "cell_type": "code",
   "execution_count": 4,
   "id": "28d09f95",
   "metadata": {},
   "outputs": [
    {
     "data": {
      "text/plain": [
       "{'weighted_edge_counts': [3.28125,\n",
       "  9.4140625,\n",
       "  31.35416603088379,\n",
       "  87.86458587646484,\n",
       "  291.95703125,\n",
       "  1420.6614990234375,\n",
       "  5055.1484375,\n",
       "  13690.2861328125,\n",
       "  34932.48828125,\n",
       "  69865.0],\n",
       " 'area_under': 0.25095041562974435,\n",
       " 'area_from_1': 0.7480495843702557,\n",
       " 'average': 0.10142104345053557,\n",
       " 'faithfulnesses': [0.0,\n",
       "  0.0,\n",
       "  0.0,\n",
       "  -1.4140530751639912e-05,\n",
       "  6.898501866689867e-05,\n",
       "  0.0011000054684707906,\n",
       "  0.0085503075944916,\n",
       "  0.00769121043382629,\n",
       "  -0.0031859334793482943,\n",
       "  1.0]}"
      ]
     },
     "execution_count": 4,
     "metadata": {},
     "output_type": "execute_result"
    }
   ],
   "source": [
    "data"
   ]
  },
  {
   "cell_type": "markdown",
   "id": "cd0bb4c9",
   "metadata": {},
   "source": [
    "### testing custom"
   ]
  },
  {
   "cell_type": "code",
   "execution_count": 13,
   "id": "fc816c24",
   "metadata": {},
   "outputs": [],
   "source": [
    "from custom_method import custom_attribute_node, get_scores_ig_activations_directional, asymmetry_score"
   ]
  },
  {
   "cell_type": "code",
   "execution_count": 17,
   "id": "a047018b",
   "metadata": {},
   "outputs": [
    {
     "name": "stderr",
     "output_type": "stream",
     "text": [
      "  0%|          | 0/1 [00:00<?, ?it/s]"
     ]
    },
    {
     "name": "stderr",
     "output_type": "stream",
     "text": [
      "100%|██████████| 1/1 [01:09<00:00, 69.53s/it]\n"
     ]
    }
   ],
   "source": [
    "corrupt_to_clean = get_scores_ig_activations_directional(\n",
    "    model, graph, dataloader, metric, intervention='patching', \n",
    "    intervention_dataloader=dataloader, \n",
    "    optimal_ablation_path=None, quiet=False,\n",
    "    neuron=True, patch_direction='patch-in-corrupt'\n",
    ")"
   ]
  },
  {
   "cell_type": "code",
   "execution_count": 18,
   "id": "5f6ac5dc",
   "metadata": {},
   "outputs": [
    {
     "name": "stderr",
     "output_type": "stream",
     "text": [
      "100%|██████████| 1/1 [01:09<00:00, 69.81s/it]\n"
     ]
    }
   ],
   "source": [
    "clean_to_corrupt = get_scores_ig_activations_directional(\n",
    "        model, graph, dataloader, metric, intervention='patching', \n",
    "        intervention_dataloader=dataloader, \n",
    "        optimal_ablation_path=None, quiet=False,\n",
    "        neuron=True, patch_direction='patch-in-clean')"
   ]
  },
  {
   "cell_type": "code",
   "execution_count": 21,
   "id": "d0d40ad9",
   "metadata": {},
   "outputs": [
    {
     "data": {
      "text/plain": [
       "(torch.Size([157, 768]), torch.Size([157, 768]))"
      ]
     },
     "execution_count": 21,
     "metadata": {},
     "output_type": "execute_result"
    }
   ],
   "source": [
    "corrupt_to_clean.shape, clean_to_corrupt.shape"
   ]
  },
  {
   "cell_type": "code",
   "execution_count": 29,
   "id": "7f4c06da",
   "metadata": {},
   "outputs": [],
   "source": [
    "scores_asymmetry = asymmetry_score(corrupt_to_clean, clean_to_corrupt)\n",
    "abs_scores_asymmetry = scores_asymmetry.abs()\n",
    "threshold = torch.quantile(abs_scores_asymmetry.flatten(), 0.9)\n",
    "\n",
    "latent_components = abs_scores_asymmetry >= threshold\n",
    "latent_components_indices = latent_components.nonzero()"
   ]
  },
  {
   "cell_type": "code",
   "execution_count": 31,
   "id": "da591521",
   "metadata": {},
   "outputs": [],
   "source": [
    "scores = corrupt_to_clean.clone()\n",
    "\n",
    "for n, d in latent_components_indices:\n",
    "    scores[n, d] = clean_to_corrupt[n, d]"
   ]
  },
  {
   "cell_type": "code",
   "execution_count": 32,
   "id": "d5b546e1",
   "metadata": {},
   "outputs": [
    {
     "name": "stderr",
     "output_type": "stream",
     "text": [
      "  0%|          | 0/1 [00:00<?, ?it/s]"
     ]
    },
    {
     "name": "stderr",
     "output_type": "stream",
     "text": [
      "100%|██████████| 1/1 [02:00<00:00, 120.41s/it]\n",
      "100%|██████████| 1/1 [02:02<00:00, 122.25s/it]\n"
     ]
    }
   ],
   "source": [
    "custom_attribute_node(model, graph, dataloader, attribution_metric, \"patching\", neuron=True, intervention_dataloader=dataloader)"
   ]
  },
  {
   "cell_type": "code",
   "execution_count": 33,
   "id": "ffc91f8d",
   "metadata": {},
   "outputs": [
    {
     "name": "stderr",
     "output_type": "stream",
     "text": [
      "100%|██████████| 1/1 [00:00<00:00, 10.29it/s]\n",
      "100%|██████████| 1/1 [00:00<00:00,  9.80it/s]"
     ]
    },
    {
     "name": "stdout",
     "output_type": "stream",
     "text": [
      "Original performance was -3.20346736907959; the circuit's performance is 3.045830726623535\n"
     ]
    },
    {
     "name": "stderr",
     "output_type": "stream",
     "text": [
      "\n"
     ]
    }
   ],
   "source": [
    "from eap.evaluate import evaluate_graph, evaluate_baseline\n",
    "\n",
    "baseline = evaluate_baseline(model, dataloader, attribution_metric).mean().item()\n",
    "results = evaluate_graph(model, graph, dataloader, attribution_metric).mean().item()\n",
    "print(f\"Original performance was {baseline}; the circuit's performance is {results}\")"
   ]
  },
  {
   "cell_type": "code",
   "execution_count": 34,
   "id": "6464d7cc",
   "metadata": {},
   "outputs": [
    {
     "name": "stdout",
     "output_type": "stream",
     "text": [
      "Faithfulness: -0.9507918688426202. Original -3.20346736907959, new 3.045830726623535\n"
     ]
    }
   ],
   "source": [
    "print(f\"Faithfulness: {results / baseline}. Original {baseline}, new {results}\")"
   ]
  },
  {
   "cell_type": "code",
   "execution_count": null,
   "id": "66e243e2",
   "metadata": {},
   "outputs": [
    {
     "name": "stderr",
     "output_type": "stream",
     "text": [
      "  0%|          | 0/1 [00:00<?, ?it/s]"
     ]
    },
    {
     "name": "stderr",
     "output_type": "stream",
     "text": [
      "100%|██████████| 1/1 [00:00<00:00, 13.09it/s]\n",
      "100%|██████████| 1/1 [00:00<00:00, 11.31it/s]\n"
     ]
    },
    {
     "name": "stdout",
     "output_type": "stream",
     "text": [
      "Computing results for 0.1% of neurons (N=120)\n"
     ]
    },
    {
     "name": "stderr",
     "output_type": "stream",
     "text": [
      "100%|██████████| 1/1 [00:00<00:00,  9.72it/s]\n"
     ]
    },
    {
     "name": "stdout",
     "output_type": "stream",
     "text": [
      "Computing results for 0.2% of neurons (N=241)\n"
     ]
    },
    {
     "name": "stderr",
     "output_type": "stream",
     "text": [
      "100%|██████████| 1/1 [00:00<00:00,  9.99it/s]\n"
     ]
    },
    {
     "name": "stdout",
     "output_type": "stream",
     "text": [
      "Computing results for 0.5% of neurons (N=602)\n"
     ]
    },
    {
     "name": "stderr",
     "output_type": "stream",
     "text": [
      "100%|██████████| 1/1 [00:00<00:00,  9.73it/s]\n"
     ]
    },
    {
     "name": "stdout",
     "output_type": "stream",
     "text": [
      "Computing results for 1.0% of neurons (N=1205)\n"
     ]
    },
    {
     "name": "stderr",
     "output_type": "stream",
     "text": [
      "100%|██████████| 1/1 [00:00<00:00,  2.74it/s]\n"
     ]
    },
    {
     "name": "stdout",
     "output_type": "stream",
     "text": [
      "Computing results for 2.0% of neurons (N=2411)\n"
     ]
    },
    {
     "name": "stderr",
     "output_type": "stream",
     "text": [
      "100%|██████████| 1/1 [00:00<00:00, 10.97it/s]\n"
     ]
    },
    {
     "name": "stdout",
     "output_type": "stream",
     "text": [
      "Computing results for 5.0% of neurons (N=6028)\n"
     ]
    },
    {
     "name": "stderr",
     "output_type": "stream",
     "text": [
      "100%|██████████| 1/1 [00:00<00:00,  9.50it/s]\n"
     ]
    },
    {
     "name": "stdout",
     "output_type": "stream",
     "text": [
      "Computing results for 10.0% of neurons (N=12057)\n"
     ]
    },
    {
     "name": "stderr",
     "output_type": "stream",
     "text": [
      "100%|██████████| 1/1 [00:00<00:00,  9.06it/s]\n"
     ]
    },
    {
     "name": "stdout",
     "output_type": "stream",
     "text": [
      "Computing results for 20.0% of neurons (N=24115)\n"
     ]
    },
    {
     "name": "stderr",
     "output_type": "stream",
     "text": [
      "100%|██████████| 1/1 [00:00<00:00, 10.68it/s]\n"
     ]
    },
    {
     "name": "stdout",
     "output_type": "stream",
     "text": [
      "Computing results for 50.0% of neurons (N=60288)\n"
     ]
    },
    {
     "name": "stderr",
     "output_type": "stream",
     "text": [
      "100%|██████████| 1/1 [00:00<00:00, 11.32it/s]\n"
     ]
    },
    {
     "name": "stdout",
     "output_type": "stream",
     "text": [
      "Computing results for 100% of neurons (N=120576)\n"
     ]
    },
    {
     "name": "stderr",
     "output_type": "stream",
     "text": [
      "100%|██████████| 1/1 [00:00<00:00,  9.62it/s]"
     ]
    },
    {
     "name": "stdout",
     "output_type": "stream",
     "text": [
      "weighted_edge_counts: [1.25, 2.5104167461395264, 22.73177146911621, 95.70963287353516, 323.3502502441406, 1373.5677490234375, 4160.29296875, 12088.8994140625, 34932.50390625, 69865.0]\n",
      "area_under (cpr): 0.8379132548760359\n",
      "area_from_1 (cmd): 0.17193037014044543\n",
      "average: 0.32901708321735346\n",
      "faithfulnesses: [-1.5260502888507987e-07, 1.5260502888507987e-07, -0.0019821867201883026, 0.003414537521303662, 0.016788689647763175, 0.1326497848879513, 0.38653678757868315, 0.7392086879874205, 1.0135545312706016, 1.0]\n"
     ]
    },
    {
     "name": "stderr",
     "output_type": "stream",
     "text": [
      "\n"
     ]
    }
   ],
   "source": [
    "from MIB_circuit_track.evaluation import evaluate_area_under_curve\n",
    "\n",
    "eval_auc_outputs = evaluate_area_under_curve(model, graph, dataloader, attribution_metric, level='neuron')\n",
    "weighted_edge_counts, area_under, area_from_1, average, faithfulnesses = eval_auc_outputs\n",
    "\n",
    "print(f\"weighted_edge_counts: {weighted_edge_counts}\")\n",
    "print(f\"area_under (cpr): {area_under}\") # higher is better\n",
    "print(f\"area_from_1 (cmd): {area_from_1}\") # lower is better\n",
    "print(f\"average: {average}\")\n",
    "print(f\"faithfulnesses: {faithfulnesses}\")"
   ]
  }
 ],
 "metadata": {
  "kernelspec": {
   "display_name": "fypvenv",
   "language": "python",
   "name": "python3"
  },
  "language_info": {
   "codemirror_mode": {
    "name": "ipython",
    "version": 3
   },
   "file_extension": ".py",
   "mimetype": "text/x-python",
   "name": "python",
   "nbconvert_exporter": "python",
   "pygments_lexer": "ipython3",
   "version": "3.12.3"
  }
 },
 "nbformat": 4,
 "nbformat_minor": 5
}
